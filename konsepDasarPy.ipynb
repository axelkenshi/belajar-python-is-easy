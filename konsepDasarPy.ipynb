{
 "cells": [
  {
   "cell_type": "markdown",
   "id": "71a652b2",
   "metadata": {},
   "source": [
    "# ini merupakan dokumentasi penggunaan dasar dari python"
   ]
  },
  {
   "cell_type": "markdown",
   "id": "411dea46",
   "metadata": {},
   "source": [
    "kutipan kode di bawah ini adalah sintaks dan hukum dasar yang perlu dipahami pada python\n",
    "* variabel adalah identitas yang menampung nilai dari berbagai macam tipe data tertentu. Disebut \"Inisialisasi\" \n",
    "* proses pemberian atau penetapan nilai pada sebuah variabel disebut \"ASSIGNMENT\"\n",
    "* print adalah perintah untuk mencetak nilai di console.\n",
    "\n",
    "Analoginya begini:\n",
    "< Ruas kiri > = < Ruas kanan >\n",
    "\n",
    "ruas kiri adalah tempat dideklarasikannya variabel, sedangkan\n",
    "yang kanan adalah tempat diberikannya nilai dari si variabel."
   ]
  },
  {
   "cell_type": "code",
   "execution_count": null,
   "id": "c83a28f1",
   "metadata": {},
   "outputs": [],
   "source": [
    "greeting = \"another world will have a dark side\"\n",
    "print(greeting)\n",
    "\n",
    "# aritmetic operations\n",
    "addition = 5 + 3\n",
    "result = addition - 2\n",
    "print(result)"
   ]
  },
  {
   "cell_type": "markdown",
   "id": "a9cd5bea",
   "metadata": {},
   "source": [
    "## Fungsi input dan output\n"
   ]
  },
  {
   "cell_type": "markdown",
   "id": "a304b4ce",
   "metadata": {},
   "source": [
    "Note:\n",
    "penggunaan tanda # atau \"\"\" Text \"\"\".\n",
    "ini disebut komentar, yang berguna untuk menjelaskan untuk apa cuplikan kode tersebut dan sebuah komentar tidak akan di eksekusi komputer."
   ]
  },
  {
   "cell_type": "code",
   "execution_count": null,
   "id": "6aa66c43",
   "metadata": {},
   "outputs": [],
   "source": [
    "name = input(\"Enter your name: \")\n",
    "print(name) #hanya memanggil yang telah di inputkan\n",
    "print(f\"Hello and nice to meet you, {name}!\") #jika ingin di imbuhi dengan kalimat"
   ]
  },
  {
   "cell_type": "markdown",
   "id": "8bf5c104",
   "metadata": {},
   "source": [
    "# ---------------------------------------------------------------------"
   ]
  },
  {
   "cell_type": "markdown",
   "id": "da020cea",
   "metadata": {},
   "source": [
    "## Abstraksi Data\n",
    "\n",
    "Abstraksi data merupakan kemampuan Anda untuk mengerti konteks dan merepresentasikannya menjadi bentuk lain sesuai dengan konteks masalahnya.\n",
    "\n",
    "Note : Python tidak membutuhkan deklarasi tipe data secara eksplisit yang artinya dia mampu mengetahui tipe variabel saat program berjalan dan melakukan proses assignment, kemampuan ini desebut Dynamic Typing.\n",
    "\n",
    "Dan python pun tidak mewajibkan penulisan ; untuk setiap perintahnya."
   ]
  },
  {
   "cell_type": "code",
   "execution_count": null,
   "id": "d5f33826",
   "metadata": {},
   "outputs": [],
   "source": [
    "# Deklarasi merujuk pada pembuatan variabel dengan menentukan tipe data dan nama variabelnya.\n",
    "age = 17\n",
    "gender = 'male'\n",
    "height = 1.75\n",
    "is_gay = False\n",
    "# ---------------\n",
    "print(type(age)) #int\n",
    "print(type(gender)) #str\n",
    "print(type(height)) #float\n",
    "print(type(is_gay)) #bool\n",
    "\n",
    "x = 6\n",
    "print(type(x)) #int\n",
    "x = \"6\"\n",
    "print(type(x)) #str\n",
    "\n",
    "x = 1+2j\n",
    "print(type(x)) #complex"
   ]
  },
  {
   "cell_type": "code",
   "execution_count": null,
   "id": "4bc19edf",
   "metadata": {},
   "outputs": [],
   "source": [
    "# tipe data numbers bersifat immutable yang artinya nilai di dalamnya tidak dapat diubah. \n",
    "\n",
    "var = 10\n",
    "print(var)\n",
    "print(id(var))\n",
    "var = 11\n",
    "print(var)\n",
    "print(id(var))\n",
    "\n",
    "\"\"\"\n",
    "Output:\n",
    "10\n",
    "<memory address>\n",
    "11\n",
    "<memory address>\n",
    "\"\"\""
   ]
  },
  {
   "cell_type": "markdown",
   "id": "f47b2f3d",
   "metadata": {},
   "source": [
    "### Number"
   ]
  },
  {
   "cell_type": "markdown",
   "id": "ff2bc343",
   "metadata": {},
   "source": [
    "### Boolean\n",
    "Tipe data primitif kedua adalah boolean, yakni tipe data yang hanya bernilai TRUE atau FALSE.\n",
    "Diwakilkan juga oleh kedua pilihan: 1 = True, dan 0 = False.\n",
    "Sebenarnya, setiap variabel yang memiliki **nilai** bisa dievaluasi dan menghasilkan nilai true. Hanya ada beberapa nilai yang akan dianggap bernilai false sebagai berikut.\n",
    "\n",
    "- Nilai yang sudah didefinisikan bernilai salah: None dan False.\n",
    "- Angka nol dari semua tipe numerik: 0, 0.0, 0j, Decimal(0), Fraction(0,1).\n",
    "- Urutan (sequence) dan koleksi (collection) yang kosong: “”, (), {}, set(), range(0). \n",
    "\n",
    "\n"
   ]
  },
  {
   "cell_type": "code",
   "execution_count": null,
   "id": "ed209fce",
   "metadata": {},
   "outputs": [],
   "source": [
    "benar = True\n",
    "salah = False\n",
    "print(benar) #bool\n",
    "print(salah) #bool\n",
    "\n",
    "correct = 1\n",
    "wrong = 0\n",
    "print(correct) \n",
    "print(wrong)"
   ]
  },
  {
   "cell_type": "markdown",
   "id": "3fa59958",
   "metadata": {},
   "source": [
    "### String\n",
    "String merupakan karakter yang berurutan. Ketika Anda membuat variabel bernilai string tentu diawali dengan single quote (‘’) atau double quote (“”)."
   ]
  },
  {
   "cell_type": "code",
   "execution_count": 20,
   "id": "8ed8c163",
   "metadata": {},
   "outputs": [
    {
     "name": "stdout",
     "output_type": "stream",
     "text": [
      "<class 'str'>\n",
      "hello! my name is robert\n",
      "hello! my name is robert\n",
      "Halo!\n",
      "Kapan terakhir kali kita bertemu?\n",
      "Kita bertemu hari Jum’at yang lalu.\n",
      "A\n",
      "lorem\n",
      "lrm\n"
     ]
    }
   ],
   "source": [
    "x = 'robert'\n",
    "print(type(x))\n",
    "\n",
    "print(\"hello! my name is\", x)\n",
    "print(\"hello! my name is \" + x) #menggunakan operator +\n",
    "\n",
    "# String singgle quote or double quote already for Multi line\n",
    "multi_line = '''Halo!\n",
    "Kapan terakhir kali kita bertemu?\n",
    "Kita bertemu hari Jum’at yang lalu.'''\n",
    "\n",
    "print(multi_line)\n",
    "\n",
    "\n",
    "\n",
    "# String indexing\n",
    "\"\"\"\n",
    "String merupakan urutan karakter yang setiap karakternya memiliki indeks.\n",
    "Anda dapat mengakses setiap karakter dari string (substring) dengan menggunakan metode indexing.\n",
    "Perlu diingat bahwa indeks selalu dimulai dari 0.\n",
    "Pada kode di atas, diambil indeks ke-0 dari string “Andrew” yakni huruf “A”.\n",
    "Metode indexing merupakan cara untuk mengambil spesifik elemen berdasarkan indeksnya.\n",
    "\"\"\"\n",
    "x = \"Andrew\"\n",
    "print(x[0])\n",
    "\n",
    "# mengakses beberapa substring dengan menggunakan metode indexing dan slicing.\n",
    "n = \"loremipsum\"\n",
    "print(n[0:5]) #lorem\n",
    "print(n[0:5:2]) #lrm"
   ]
  }
 ],
 "metadata": {
  "kernelspec": {
   "display_name": "Python 3",
   "language": "python",
   "name": "python3"
  },
  "language_info": {
   "codemirror_mode": {
    "name": "ipython",
    "version": 3
   },
   "file_extension": ".py",
   "mimetype": "text/x-python",
   "name": "python",
   "nbconvert_exporter": "python",
   "pygments_lexer": "ipython3",
   "version": "3.12.6"
  }
 },
 "nbformat": 4,
 "nbformat_minor": 5
}
